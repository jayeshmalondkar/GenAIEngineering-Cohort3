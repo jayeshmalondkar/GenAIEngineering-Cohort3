{
 "cells": [
  {
   "cell_type": "code",
   "execution_count": 1,
   "id": "d8f50f77",
   "metadata": {},
   "outputs": [
    {
     "name": "stdout",
     "output_type": "stream",
     "text": [
      "Numpy version: 2.3.2\n"
     ]
    }
   ],
   "source": [
    "import numpy as np\n",
    "print(f\"Numpy version: {np.__version__}\")"
   ]
  },
  {
   "cell_type": "code",
   "execution_count": 2,
   "id": "a6d38d39",
   "metadata": {},
   "outputs": [
    {
     "data": {
      "text/plain": [
       "array([5, 5, 5])"
      ]
     },
     "execution_count": 2,
     "metadata": {},
     "output_type": "execute_result"
    }
   ],
   "source": [
    "string_arr = np.array(['hello', 'world', 'numpy'])\n",
    "np.strings.str_len(string_arr)"
   ]
  }
 ],
 "metadata": {
  "kernelspec": {
   "display_name": "new_numpy_env",
   "language": "python",
   "name": "python3"
  },
  "language_info": {
   "codemirror_mode": {
    "name": "ipython",
    "version": 3
   },
   "file_extension": ".py",
   "mimetype": "text/x-python",
   "name": "python",
   "nbconvert_exporter": "python",
   "pygments_lexer": "ipython3",
   "version": "3.11.4"
  }
 },
 "nbformat": 4,
 "nbformat_minor": 5
}
